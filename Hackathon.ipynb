{
 "cells": [
  {
   "cell_type": "markdown",
   "metadata": {},
   "source": [
    "# <font color='yellow'> <center>Hackathon 2024</center></font>"
   ]
  },
  {
   "cell_type": "markdown",
   "metadata": {},
   "source": [
    "## Importación y tratamiento de los datos\n",
    "Primero se importa el modelo desde el csv a un arreglo de pandas"
   ]
  },
  {
   "cell_type": "code",
   "execution_count": 172,
   "metadata": {},
   "outputs": [],
   "source": [
    "import pandas as pd"
   ]
  },
  {
   "cell_type": "code",
   "execution_count": 173,
   "metadata": {},
   "outputs": [
    {
     "name": "stdout",
     "output_type": "stream",
     "text": [
      "1744667\n"
     ]
    }
   ],
   "source": [
    "df = pd.read_csv(\"Sistecredito/Dataset_masked.csv\")\n",
    "print(df.shape[0])"
   ]
  },
  {
   "cell_type": "markdown",
   "metadata": {},
   "source": [
    "Luego, se clasificarán las columnas con valores de texto"
   ]
  },
  {
   "cell_type": "code",
   "execution_count": 174,
   "metadata": {},
   "outputs": [],
   "source": [
    "from sklearn.preprocessing import LabelEncoder\n",
    "label_encoder = LabelEncoder()\n",
    "categorical_columns = ['CreditoCodigo', 'PersonaCodigo', 'DepartamentoResidencia', 'DepartamentoMayorFrecuenciaCompra',\n",
    "                       'AlmacenMayorFrecuenciaPagoCodigo', 'AlmacenCreditoCodigo', 'AlmacenPerfilCodigo', 'DepartamentoCredito',\n",
    "                       'storeIdEventoA', 'EventoA', 'userIdEventoB', 'RazonSocialUsuarioEventoB', \n",
    "                       'LocalizacionComercioCredito', 'StatusComercioCredito', 'TipoAlmacenCredito', 'TipoCliente']\n",
    "\n",
    "for column in categorical_columns:\n",
    "    df[column] = label_encoder.fit_transform(df[column].astype(str))"
   ]
  },
  {
   "cell_type": "markdown",
   "metadata": {},
   "source": [
    "Ahora, el tratamiento de las columnas con fecha"
   ]
  },
  {
   "cell_type": "code",
   "execution_count": 175,
   "metadata": {},
   "outputs": [],
   "source": [
    "df['FechaCreacion'] = pd.to_datetime(df['FechaCreacion']).astype('int64') // 10**9\n",
    "df['FechaEventoA'] = pd.to_datetime(df['FechaEventoA']).astype('int64') // 10**9\n",
    "df['FechaEventoB'] = pd.to_datetime(df['FechaEventoB']).astype('int64') // 10**9"
   ]
  },
  {
   "cell_type": "markdown",
   "metadata": {},
   "source": [
    "La columna de Geolocalización se divide en Latitud y Longitud"
   ]
  },
  {
   "cell_type": "code",
   "execution_count": 176,
   "metadata": {},
   "outputs": [],
   "source": [
    "df[['Latitud', 'Longitud']] = df['LocalizacionEventoB'].str.strip(\"[]\").str.split(\",\", expand=True).astype(float)\n",
    "df = df.drop(columns=['LocalizacionEventoB'])"
   ]
  },
  {
   "cell_type": "markdown",
   "metadata": {},
   "source": [
    "Tratamiento de datos nulos"
   ]
  },
  {
   "cell_type": "code",
   "execution_count": 177,
   "metadata": {},
   "outputs": [
    {
     "data": {
      "text/plain": [
       "CreditoCodigo                        0\n",
       "PersonaCodigo                        0\n",
       "DepartamentoResidencia               0\n",
       "DepartamentoMayorFrecuenciaCompra    0\n",
       "AlmacenMayorFrecuenciaPagoCodigo     0\n",
       "ValorPagosUltMes                     0\n",
       "AlmacenCreditoCodigo                 0\n",
       "AlmacenPerfilCodigo                  0\n",
       "DepartamentoCredito                  0\n",
       "FechaCreacion                        0\n",
       "ValorFactura                         0\n",
       "CupoTotal                            0\n",
       "CupoDisponibleTotal                  0\n",
       "storeIdEventoA                       0\n",
       "FechaEventoA                         0\n",
       "EventoA                              0\n",
       "FechaEventoB                         0\n",
       "userIdEventoB                        0\n",
       "RazonSocialUsuarioEventoB            0\n",
       "LocalizacionComercioCredito          0\n",
       "StatusComercioCredito                0\n",
       "FrecuenciaCreditosSemana             0\n",
       "CantidadCreditosUltimaSemana         0\n",
       "ValorAtipicoCliente                  0\n",
       "ValorAtipicoComercio                 0\n",
       "TipoAlmacenCredito                   0\n",
       "TipoCliente                          0\n",
       "Atipico                              0\n",
       "Latitud                              0\n",
       "Longitud                             0\n",
       "dtype: int64"
      ]
     },
     "execution_count": 177,
     "metadata": {},
     "output_type": "execute_result"
    }
   ],
   "source": [
    "#df.fillna(-1, inplace=True)\n",
    "#df.dropna()\n",
    "#df.fillna(df.mean())\n",
    "\n",
    "from sklearn.impute import SimpleImputer\n",
    "imputer = SimpleImputer(strategy='mean')\n",
    "df = pd.DataFrame(imputer.fit_transform(df), columns=df.columns)\n",
    "\n",
    "count = df.isnull().sum()\n",
    "count"
   ]
  },
  {
   "cell_type": "markdown",
   "metadata": {},
   "source": [
    "La variable objetivo se elimina del dataset para el entrenamiento del modelo"
   ]
  },
  {
   "cell_type": "code",
   "execution_count": 178,
   "metadata": {},
   "outputs": [],
   "source": [
    "X = df.drop(columns=[\"Atipico\"])\n",
    "y = df[\"Atipico\"]"
   ]
  },
  {
   "cell_type": "markdown",
   "metadata": {},
   "source": [
    "El dataset quedó así:"
   ]
  },
  {
   "cell_type": "code",
   "execution_count": 179,
   "metadata": {},
   "outputs": [
    {
     "data": {
      "text/html": [
       "<div>\n",
       "<style scoped>\n",
       "    .dataframe tbody tr th:only-of-type {\n",
       "        vertical-align: middle;\n",
       "    }\n",
       "\n",
       "    .dataframe tbody tr th {\n",
       "        vertical-align: top;\n",
       "    }\n",
       "\n",
       "    .dataframe thead th {\n",
       "        text-align: right;\n",
       "    }\n",
       "</style>\n",
       "<table border=\"1\" class=\"dataframe\">\n",
       "  <thead>\n",
       "    <tr style=\"text-align: right;\">\n",
       "      <th></th>\n",
       "      <th>CreditoCodigo</th>\n",
       "      <th>PersonaCodigo</th>\n",
       "      <th>DepartamentoResidencia</th>\n",
       "      <th>DepartamentoMayorFrecuenciaCompra</th>\n",
       "      <th>AlmacenMayorFrecuenciaPagoCodigo</th>\n",
       "      <th>ValorPagosUltMes</th>\n",
       "      <th>AlmacenCreditoCodigo</th>\n",
       "      <th>AlmacenPerfilCodigo</th>\n",
       "      <th>DepartamentoCredito</th>\n",
       "      <th>FechaCreacion</th>\n",
       "      <th>...</th>\n",
       "      <th>StatusComercioCredito</th>\n",
       "      <th>FrecuenciaCreditosSemana</th>\n",
       "      <th>CantidadCreditosUltimaSemana</th>\n",
       "      <th>ValorAtipicoCliente</th>\n",
       "      <th>ValorAtipicoComercio</th>\n",
       "      <th>TipoAlmacenCredito</th>\n",
       "      <th>TipoCliente</th>\n",
       "      <th>Atipico</th>\n",
       "      <th>Latitud</th>\n",
       "      <th>Longitud</th>\n",
       "    </tr>\n",
       "  </thead>\n",
       "  <tbody>\n",
       "    <tr>\n",
       "      <th>0</th>\n",
       "      <td>104.0</td>\n",
       "      <td>195241.0</td>\n",
       "      <td>21.0</td>\n",
       "      <td>28.0</td>\n",
       "      <td>2470.0</td>\n",
       "      <td>86923.0</td>\n",
       "      <td>22341.0</td>\n",
       "      <td>0.0</td>\n",
       "      <td>28.0</td>\n",
       "      <td>1.255133e+09</td>\n",
       "      <td>...</td>\n",
       "      <td>2.0</td>\n",
       "      <td>1.000000</td>\n",
       "      <td>3.0</td>\n",
       "      <td>350140.000000</td>\n",
       "      <td>5.630000e+05</td>\n",
       "      <td>1.0</td>\n",
       "      <td>0.0</td>\n",
       "      <td>0.0</td>\n",
       "      <td>5.258547</td>\n",
       "      <td>-73.038734</td>\n",
       "    </tr>\n",
       "    <tr>\n",
       "      <th>1</th>\n",
       "      <td>32.0</td>\n",
       "      <td>620995.0</td>\n",
       "      <td>28.0</td>\n",
       "      <td>28.0</td>\n",
       "      <td>1402.0</td>\n",
       "      <td>45347.0</td>\n",
       "      <td>9565.0</td>\n",
       "      <td>0.0</td>\n",
       "      <td>28.0</td>\n",
       "      <td>1.126483e+09</td>\n",
       "      <td>...</td>\n",
       "      <td>0.0</td>\n",
       "      <td>1.000000</td>\n",
       "      <td>4.0</td>\n",
       "      <td>579000.000000</td>\n",
       "      <td>4.995530e+05</td>\n",
       "      <td>1.0</td>\n",
       "      <td>0.0</td>\n",
       "      <td>0.0</td>\n",
       "      <td>5.258547</td>\n",
       "      <td>-73.038734</td>\n",
       "    </tr>\n",
       "    <tr>\n",
       "      <th>2</th>\n",
       "      <td>173.0</td>\n",
       "      <td>159048.0</td>\n",
       "      <td>1.0</td>\n",
       "      <td>28.0</td>\n",
       "      <td>6357.0</td>\n",
       "      <td>10113443.0</td>\n",
       "      <td>32304.0</td>\n",
       "      <td>0.0</td>\n",
       "      <td>28.0</td>\n",
       "      <td>1.198471e+09</td>\n",
       "      <td>...</td>\n",
       "      <td>2.0</td>\n",
       "      <td>1.098418</td>\n",
       "      <td>10.0</td>\n",
       "      <td>762438.300745</td>\n",
       "      <td>8.417151e+05</td>\n",
       "      <td>1.0</td>\n",
       "      <td>0.0</td>\n",
       "      <td>0.0</td>\n",
       "      <td>5.258547</td>\n",
       "      <td>-73.038734</td>\n",
       "    </tr>\n",
       "    <tr>\n",
       "      <th>3</th>\n",
       "      <td>174.0</td>\n",
       "      <td>159048.0</td>\n",
       "      <td>1.0</td>\n",
       "      <td>28.0</td>\n",
       "      <td>6357.0</td>\n",
       "      <td>10113443.0</td>\n",
       "      <td>18710.0</td>\n",
       "      <td>0.0</td>\n",
       "      <td>28.0</td>\n",
       "      <td>1.197521e+09</td>\n",
       "      <td>...</td>\n",
       "      <td>2.0</td>\n",
       "      <td>1.098418</td>\n",
       "      <td>10.0</td>\n",
       "      <td>762438.300745</td>\n",
       "      <td>8.417151e+05</td>\n",
       "      <td>1.0</td>\n",
       "      <td>0.0</td>\n",
       "      <td>0.0</td>\n",
       "      <td>5.258547</td>\n",
       "      <td>-73.038734</td>\n",
       "    </tr>\n",
       "    <tr>\n",
       "      <th>4</th>\n",
       "      <td>178.0</td>\n",
       "      <td>159048.0</td>\n",
       "      <td>1.0</td>\n",
       "      <td>28.0</td>\n",
       "      <td>6357.0</td>\n",
       "      <td>10113443.0</td>\n",
       "      <td>18710.0</td>\n",
       "      <td>0.0</td>\n",
       "      <td>28.0</td>\n",
       "      <td>1.197348e+09</td>\n",
       "      <td>...</td>\n",
       "      <td>2.0</td>\n",
       "      <td>1.098418</td>\n",
       "      <td>10.0</td>\n",
       "      <td>762438.300745</td>\n",
       "      <td>8.417151e+05</td>\n",
       "      <td>1.0</td>\n",
       "      <td>0.0</td>\n",
       "      <td>0.0</td>\n",
       "      <td>5.258547</td>\n",
       "      <td>-73.038734</td>\n",
       "    </tr>\n",
       "    <tr>\n",
       "      <th>...</th>\n",
       "      <td>...</td>\n",
       "      <td>...</td>\n",
       "      <td>...</td>\n",
       "      <td>...</td>\n",
       "      <td>...</td>\n",
       "      <td>...</td>\n",
       "      <td>...</td>\n",
       "      <td>...</td>\n",
       "      <td>...</td>\n",
       "      <td>...</td>\n",
       "      <td>...</td>\n",
       "      <td>...</td>\n",
       "      <td>...</td>\n",
       "      <td>...</td>\n",
       "      <td>...</td>\n",
       "      <td>...</td>\n",
       "      <td>...</td>\n",
       "      <td>...</td>\n",
       "      <td>...</td>\n",
       "      <td>...</td>\n",
       "      <td>...</td>\n",
       "    </tr>\n",
       "    <tr>\n",
       "      <th>1744662</th>\n",
       "      <td>1744087.0</td>\n",
       "      <td>240941.0</td>\n",
       "      <td>33.0</td>\n",
       "      <td>33.0</td>\n",
       "      <td>12761.0</td>\n",
       "      <td>783153.0</td>\n",
       "      <td>17074.0</td>\n",
       "      <td>0.0</td>\n",
       "      <td>33.0</td>\n",
       "      <td>1.724068e+09</td>\n",
       "      <td>...</td>\n",
       "      <td>0.0</td>\n",
       "      <td>1.000000</td>\n",
       "      <td>7.0</td>\n",
       "      <td>339500.000000</td>\n",
       "      <td>7.651000e+05</td>\n",
       "      <td>1.0</td>\n",
       "      <td>0.0</td>\n",
       "      <td>0.0</td>\n",
       "      <td>4.530268</td>\n",
       "      <td>-75.657959</td>\n",
       "    </tr>\n",
       "    <tr>\n",
       "      <th>1744663</th>\n",
       "      <td>1744260.0</td>\n",
       "      <td>659994.0</td>\n",
       "      <td>32.0</td>\n",
       "      <td>32.0</td>\n",
       "      <td>18092.0</td>\n",
       "      <td>197031.0</td>\n",
       "      <td>29403.0</td>\n",
       "      <td>0.0</td>\n",
       "      <td>32.0</td>\n",
       "      <td>1.724068e+09</td>\n",
       "      <td>...</td>\n",
       "      <td>0.0</td>\n",
       "      <td>1.000000</td>\n",
       "      <td>3.0</td>\n",
       "      <td>319900.000000</td>\n",
       "      <td>3.990000e+05</td>\n",
       "      <td>1.0</td>\n",
       "      <td>0.0</td>\n",
       "      <td>0.0</td>\n",
       "      <td>5.258547</td>\n",
       "      <td>-73.038734</td>\n",
       "    </tr>\n",
       "    <tr>\n",
       "      <th>1744664</th>\n",
       "      <td>1744296.0</td>\n",
       "      <td>883479.0</td>\n",
       "      <td>8.0</td>\n",
       "      <td>8.0</td>\n",
       "      <td>1402.0</td>\n",
       "      <td>135343.0</td>\n",
       "      <td>21866.0</td>\n",
       "      <td>0.0</td>\n",
       "      <td>8.0</td>\n",
       "      <td>1.724068e+09</td>\n",
       "      <td>...</td>\n",
       "      <td>0.0</td>\n",
       "      <td>1.000000</td>\n",
       "      <td>1.0</td>\n",
       "      <td>181816.000000</td>\n",
       "      <td>8.668480e+05</td>\n",
       "      <td>1.0</td>\n",
       "      <td>0.0</td>\n",
       "      <td>0.0</td>\n",
       "      <td>5.258547</td>\n",
       "      <td>-73.038734</td>\n",
       "    </tr>\n",
       "    <tr>\n",
       "      <th>1744665</th>\n",
       "      <td>1744343.0</td>\n",
       "      <td>628649.0</td>\n",
       "      <td>28.0</td>\n",
       "      <td>28.0</td>\n",
       "      <td>10660.0</td>\n",
       "      <td>195608.0</td>\n",
       "      <td>34897.0</td>\n",
       "      <td>0.0</td>\n",
       "      <td>28.0</td>\n",
       "      <td>1.724069e+09</td>\n",
       "      <td>...</td>\n",
       "      <td>0.0</td>\n",
       "      <td>1.000000</td>\n",
       "      <td>1.0</td>\n",
       "      <td>626684.000000</td>\n",
       "      <td>6.540140e+05</td>\n",
       "      <td>0.0</td>\n",
       "      <td>0.0</td>\n",
       "      <td>0.0</td>\n",
       "      <td>5.258547</td>\n",
       "      <td>-73.038734</td>\n",
       "    </tr>\n",
       "    <tr>\n",
       "      <th>1744666</th>\n",
       "      <td>1744385.0</td>\n",
       "      <td>254359.0</td>\n",
       "      <td>10.0</td>\n",
       "      <td>10.0</td>\n",
       "      <td>10686.0</td>\n",
       "      <td>473250.0</td>\n",
       "      <td>41699.0</td>\n",
       "      <td>0.0</td>\n",
       "      <td>10.0</td>\n",
       "      <td>1.724069e+09</td>\n",
       "      <td>...</td>\n",
       "      <td>0.0</td>\n",
       "      <td>1.000000</td>\n",
       "      <td>3.0</td>\n",
       "      <td>474680.000000</td>\n",
       "      <td>2.770000e+06</td>\n",
       "      <td>1.0</td>\n",
       "      <td>0.0</td>\n",
       "      <td>0.0</td>\n",
       "      <td>5.258547</td>\n",
       "      <td>-73.038734</td>\n",
       "    </tr>\n",
       "  </tbody>\n",
       "</table>\n",
       "<p>1744667 rows × 30 columns</p>\n",
       "</div>"
      ],
      "text/plain": [
       "         CreditoCodigo  PersonaCodigo  DepartamentoResidencia  \\\n",
       "0                104.0       195241.0                    21.0   \n",
       "1                 32.0       620995.0                    28.0   \n",
       "2                173.0       159048.0                     1.0   \n",
       "3                174.0       159048.0                     1.0   \n",
       "4                178.0       159048.0                     1.0   \n",
       "...                ...            ...                     ...   \n",
       "1744662      1744087.0       240941.0                    33.0   \n",
       "1744663      1744260.0       659994.0                    32.0   \n",
       "1744664      1744296.0       883479.0                     8.0   \n",
       "1744665      1744343.0       628649.0                    28.0   \n",
       "1744666      1744385.0       254359.0                    10.0   \n",
       "\n",
       "         DepartamentoMayorFrecuenciaCompra  AlmacenMayorFrecuenciaPagoCodigo  \\\n",
       "0                                     28.0                            2470.0   \n",
       "1                                     28.0                            1402.0   \n",
       "2                                     28.0                            6357.0   \n",
       "3                                     28.0                            6357.0   \n",
       "4                                     28.0                            6357.0   \n",
       "...                                    ...                               ...   \n",
       "1744662                               33.0                           12761.0   \n",
       "1744663                               32.0                           18092.0   \n",
       "1744664                                8.0                            1402.0   \n",
       "1744665                               28.0                           10660.0   \n",
       "1744666                               10.0                           10686.0   \n",
       "\n",
       "         ValorPagosUltMes  AlmacenCreditoCodigo  AlmacenPerfilCodigo  \\\n",
       "0                 86923.0               22341.0                  0.0   \n",
       "1                 45347.0                9565.0                  0.0   \n",
       "2              10113443.0               32304.0                  0.0   \n",
       "3              10113443.0               18710.0                  0.0   \n",
       "4              10113443.0               18710.0                  0.0   \n",
       "...                   ...                   ...                  ...   \n",
       "1744662          783153.0               17074.0                  0.0   \n",
       "1744663          197031.0               29403.0                  0.0   \n",
       "1744664          135343.0               21866.0                  0.0   \n",
       "1744665          195608.0               34897.0                  0.0   \n",
       "1744666          473250.0               41699.0                  0.0   \n",
       "\n",
       "         DepartamentoCredito  FechaCreacion  ...  StatusComercioCredito  \\\n",
       "0                       28.0   1.255133e+09  ...                    2.0   \n",
       "1                       28.0   1.126483e+09  ...                    0.0   \n",
       "2                       28.0   1.198471e+09  ...                    2.0   \n",
       "3                       28.0   1.197521e+09  ...                    2.0   \n",
       "4                       28.0   1.197348e+09  ...                    2.0   \n",
       "...                      ...            ...  ...                    ...   \n",
       "1744662                 33.0   1.724068e+09  ...                    0.0   \n",
       "1744663                 32.0   1.724068e+09  ...                    0.0   \n",
       "1744664                  8.0   1.724068e+09  ...                    0.0   \n",
       "1744665                 28.0   1.724069e+09  ...                    0.0   \n",
       "1744666                 10.0   1.724069e+09  ...                    0.0   \n",
       "\n",
       "         FrecuenciaCreditosSemana  CantidadCreditosUltimaSemana  \\\n",
       "0                        1.000000                           3.0   \n",
       "1                        1.000000                           4.0   \n",
       "2                        1.098418                          10.0   \n",
       "3                        1.098418                          10.0   \n",
       "4                        1.098418                          10.0   \n",
       "...                           ...                           ...   \n",
       "1744662                  1.000000                           7.0   \n",
       "1744663                  1.000000                           3.0   \n",
       "1744664                  1.000000                           1.0   \n",
       "1744665                  1.000000                           1.0   \n",
       "1744666                  1.000000                           3.0   \n",
       "\n",
       "         ValorAtipicoCliente  ValorAtipicoComercio  TipoAlmacenCredito  \\\n",
       "0              350140.000000          5.630000e+05                 1.0   \n",
       "1              579000.000000          4.995530e+05                 1.0   \n",
       "2              762438.300745          8.417151e+05                 1.0   \n",
       "3              762438.300745          8.417151e+05                 1.0   \n",
       "4              762438.300745          8.417151e+05                 1.0   \n",
       "...                      ...                   ...                 ...   \n",
       "1744662        339500.000000          7.651000e+05                 1.0   \n",
       "1744663        319900.000000          3.990000e+05                 1.0   \n",
       "1744664        181816.000000          8.668480e+05                 1.0   \n",
       "1744665        626684.000000          6.540140e+05                 0.0   \n",
       "1744666        474680.000000          2.770000e+06                 1.0   \n",
       "\n",
       "         TipoCliente  Atipico   Latitud   Longitud  \n",
       "0                0.0      0.0  5.258547 -73.038734  \n",
       "1                0.0      0.0  5.258547 -73.038734  \n",
       "2                0.0      0.0  5.258547 -73.038734  \n",
       "3                0.0      0.0  5.258547 -73.038734  \n",
       "4                0.0      0.0  5.258547 -73.038734  \n",
       "...              ...      ...       ...        ...  \n",
       "1744662          0.0      0.0  4.530268 -75.657959  \n",
       "1744663          0.0      0.0  5.258547 -73.038734  \n",
       "1744664          0.0      0.0  5.258547 -73.038734  \n",
       "1744665          0.0      0.0  5.258547 -73.038734  \n",
       "1744666          0.0      0.0  5.258547 -73.038734  \n",
       "\n",
       "[1744667 rows x 30 columns]"
      ]
     },
     "execution_count": 179,
     "metadata": {},
     "output_type": "execute_result"
    }
   ],
   "source": [
    "df"
   ]
  },
  {
   "cell_type": "markdown",
   "metadata": {},
   "source": [
    "## Entrenamiento del modelo\n",
    "Para el entrenamiento del modelo, se dividirán los datos en 75% de entrenamiento y 25% prueba"
   ]
  },
  {
   "cell_type": "code",
   "execution_count": 180,
   "metadata": {},
   "outputs": [
    {
     "data": {
      "text/plain": [
       "((1221266, 29), (1221266,))"
      ]
     },
     "execution_count": 180,
     "metadata": {},
     "output_type": "execute_result"
    }
   ],
   "source": [
    "from sklearn.model_selection import train_test_split\n",
    "\n",
    "xTrain,xTest,yTrain,yTest = train_test_split(\n",
    "    X,\n",
    "    y,\n",
    "    train_size=0.70,\n",
    "    random_state=10)\n",
    "xTrain.shape,yTrain.shape\n"
   ]
  },
  {
   "cell_type": "code",
   "execution_count": 181,
   "metadata": {},
   "outputs": [],
   "source": [
    "from imblearn.over_sampling import SMOTE\n",
    "\n",
    "smote = SMOTE(random_state=42)\n",
    "xTrain, yTrain = smote.fit_resample(xTrain, yTrain)"
   ]
  },
  {
   "cell_type": "markdown",
   "metadata": {},
   "source": [
    "Dados los arreglos de datos creados en el paso anterior, se entrenará el modelo"
   ]
  },
  {
   "cell_type": "code",
   "execution_count": 182,
   "metadata": {},
   "outputs": [
    {
     "name": "stdout",
     "output_type": "stream",
     "text": [
      "0.9985237401422288\n",
      "0.9989682862661707\n"
     ]
    }
   ],
   "source": [
    "from sklearn.ensemble import RandomForestClassifier\n",
    "\n",
    "model = RandomForestClassifier(\n",
    "    n_estimators=100, \n",
    "    max_depth=10, \n",
    "    class_weight={0: 1, 1: 3}, \n",
    "    random_state=10)\n",
    "model.fit(xTrain, yTrain)\n",
    "print(model.score(xTrain, yTrain))\n",
    "print(model.score(xTest, yTest))"
   ]
  },
  {
   "cell_type": "code",
   "execution_count": 188,
   "metadata": {},
   "outputs": [
    {
     "data": {
      "image/png": "[encoded data removed]",
      "text/plain": [
       "<Figure size 800x600 with 1 Axes>"
      ]
     },
     "metadata": {},
     "output_type": "display_data"
    }
   ],
   "source": [
    "from sklearn.metrics import confusion_matrix \n",
    "import seaborn as sns\n",
    "import matplotlib.pyplot as plt \n",
    "import numpy as np\n",
    "\n",
    "plt.figure(figsize=(8,6))\n",
    "cm = confusion_matrix(yTest, model.predict(xTest))\n",
    "\n",
    "# Format the numbers with commas\n",
    "cm_formatted = np.array([[\"{:,}\".format(value) for value in row] for row in cm])\n",
    "\n",
    "sns.heatmap(cm, annot=cm_formatted, fmt='', annot_kws={\"fontsize\":12}, cbar=False)\n",
    "plt.show()"
   ]
  },
  {
   "cell_type": "markdown",
   "metadata": {},
   "source": [
    "Finally, save the model"
   ]
  },
  {
   "cell_type": "code",
   "execution_count": 191,
   "metadata": {},
   "outputs": [
    {
     "data": {
      "text/plain": [
       "['model.joblib']"
      ]
     },
     "execution_count": 191,
     "metadata": {},
     "output_type": "execute_result"
    }
   ],
   "source": [
    "import joblib\n",
    "\n",
    "joblib.dump(model, 'model.joblib')"
   ]
  }
 ],
 "metadata": {
  "kernelspec": {
   "display_name": "Python 3",
   "language": "python",
   "name": "python3"
  },
  "language_info": {
   "codemirror_mode": {
    "name": "ipython",
    "version": 3
   },
   "file_extension": ".py",
   "mimetype": "text/x-python",
   "name": "python",
   "nbconvert_exporter": "python",
   "pygments_lexer": "ipython3",
   "version": "3.12.5"
  }
 },
 "nbformat": 4,
 "nbformat_minor": 2
}
